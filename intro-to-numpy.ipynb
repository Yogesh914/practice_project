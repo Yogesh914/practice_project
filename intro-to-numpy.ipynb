{
 "cells": [
  {
   "cell_type": "code",
   "execution_count": 7,
   "id": "91abbeff",
   "metadata": {
    "ExecuteTime": {
     "end_time": "2023-06-18T01:47:49.616438Z",
     "start_time": "2023-06-18T01:47:48.945878Z"
    }
   },
   "outputs": [],
   "source": [
    "import numpy as np"
   ]
  },
  {
   "cell_type": "markdown",
   "id": "7ab2414f",
   "metadata": {},
   "source": [
    "## Data Types & Attributes"
   ]
  },
  {
   "cell_type": "code",
   "execution_count": 8,
   "id": "281b9862",
   "metadata": {
    "ExecuteTime": {
     "end_time": "2023-06-18T01:47:49.616999Z",
     "start_time": "2023-06-18T01:47:49.034903Z"
    }
   },
   "outputs": [
    {
     "data": {
      "text/plain": "array([1, 2, 3])"
     },
     "execution_count": 8,
     "metadata": {},
     "output_type": "execute_result"
    }
   ],
   "source": [
    "a1 = np.array([1,2,3])\n",
    "a1"
   ]
  },
  {
   "cell_type": "code",
   "execution_count": 9,
   "id": "55796a73",
   "metadata": {
    "ExecuteTime": {
     "end_time": "2023-06-18T01:47:49.664714Z",
     "start_time": "2023-06-18T01:47:49.043403Z"
    }
   },
   "outputs": [
    {
     "data": {
      "text/plain": "array([[1, 2, 3],\n       [4, 5, 6]])"
     },
     "execution_count": 9,
     "metadata": {},
     "output_type": "execute_result"
    }
   ],
   "source": [
    "a2 = np.array([[1,2,3], [4,5,6]])\n",
    "a2"
   ]
  },
  {
   "cell_type": "code",
   "execution_count": 10,
   "id": "ef382e93",
   "metadata": {
    "ExecuteTime": {
     "end_time": "2023-06-18T01:47:49.664957Z",
     "start_time": "2023-06-18T01:47:49.057475Z"
    }
   },
   "outputs": [],
   "source": [
    "a3 = np.array([[[1,2,3], [4,5,6]],\n",
    "              [[7,8,9], [10,11,12]]])"
   ]
  },
  {
   "cell_type": "code",
   "execution_count": 11,
   "id": "ae7a2d42",
   "metadata": {
    "ExecuteTime": {
     "end_time": "2023-06-18T01:47:49.665081Z",
     "start_time": "2023-06-18T01:47:49.066447Z"
    }
   },
   "outputs": [
    {
     "data": {
      "text/plain": "array([[[ 1,  2,  3],\n        [ 4,  5,  6]],\n\n       [[ 7,  8,  9],\n        [10, 11, 12]]])"
     },
     "execution_count": 11,
     "metadata": {},
     "output_type": "execute_result"
    }
   ],
   "source": [
    "a3"
   ]
  },
  {
   "cell_type": "code",
   "execution_count": 12,
   "id": "904fb1e7",
   "metadata": {
    "ExecuteTime": {
     "end_time": "2023-06-18T01:47:49.760473Z",
     "start_time": "2023-06-18T01:47:49.073841Z"
    }
   },
   "outputs": [
    {
     "data": {
      "text/plain": "(3, 6, 12)"
     },
     "execution_count": 12,
     "metadata": {},
     "output_type": "execute_result"
    }
   ],
   "source": [
    "a1.size, a2.size, a3.size"
   ]
  },
  {
   "cell_type": "code",
   "execution_count": 13,
   "id": "2ffa5d7d",
   "metadata": {
    "ExecuteTime": {
     "end_time": "2023-06-18T01:47:49.760777Z",
     "start_time": "2023-06-18T01:47:49.092523Z"
    }
   },
   "outputs": [
    {
     "data": {
      "text/plain": "dtype('int64')"
     },
     "execution_count": 13,
     "metadata": {},
     "output_type": "execute_result"
    }
   ],
   "source": [
    "a1.dtype"
   ]
  },
  {
   "cell_type": "code",
   "execution_count": 14,
   "id": "4a64601b",
   "metadata": {
    "ExecuteTime": {
     "end_time": "2023-06-18T01:47:49.760906Z",
     "start_time": "2023-06-18T01:47:49.097709Z"
    }
   },
   "outputs": [
    {
     "data": {
      "text/plain": "(1, 2, 3)"
     },
     "execution_count": 14,
     "metadata": {},
     "output_type": "execute_result"
    }
   ],
   "source": [
    "a1.ndim, a2.ndim, a3.ndim"
   ]
  },
  {
   "cell_type": "code",
   "execution_count": 15,
   "id": "6b9cf050",
   "metadata": {
    "ExecuteTime": {
     "end_time": "2023-06-18T01:47:49.761031Z",
     "start_time": "2023-06-18T01:47:49.102371Z"
    }
   },
   "outputs": [
    {
     "data": {
      "text/plain": "numpy.ndarray"
     },
     "execution_count": 15,
     "metadata": {},
     "output_type": "execute_result"
    }
   ],
   "source": [
    "type(a1)"
   ]
  },
  {
   "cell_type": "code",
   "execution_count": 16,
   "id": "75c780c4",
   "metadata": {
    "ExecuteTime": {
     "end_time": "2023-06-18T01:47:49.940457Z",
     "start_time": "2023-06-18T01:47:49.116047Z"
    }
   },
   "outputs": [],
   "source": [
    "# Converting numpy arrays into data frames\n",
    "\n",
    "import pandas as pd\n",
    "\n",
    "df1 = pd.DataFrame(a1)\n",
    "df2 = pd.DataFrame(a2)"
   ]
  },
  {
   "cell_type": "code",
   "execution_count": 17,
   "id": "e0f881b3",
   "metadata": {
    "ExecuteTime": {
     "end_time": "2023-06-18T01:47:49.941048Z",
     "start_time": "2023-06-18T01:47:49.301651Z"
    }
   },
   "outputs": [
    {
     "data": {
      "text/plain": "   0\n0  1\n1  2\n2  3",
      "text/html": "<div>\n<style scoped>\n    .dataframe tbody tr th:only-of-type {\n        vertical-align: middle;\n    }\n\n    .dataframe tbody tr th {\n        vertical-align: top;\n    }\n\n    .dataframe thead th {\n        text-align: right;\n    }\n</style>\n<table border=\"1\" class=\"dataframe\">\n  <thead>\n    <tr style=\"text-align: right;\">\n      <th></th>\n      <th>0</th>\n    </tr>\n  </thead>\n  <tbody>\n    <tr>\n      <th>0</th>\n      <td>1</td>\n    </tr>\n    <tr>\n      <th>1</th>\n      <td>2</td>\n    </tr>\n    <tr>\n      <th>2</th>\n      <td>3</td>\n    </tr>\n  </tbody>\n</table>\n</div>"
     },
     "execution_count": 17,
     "metadata": {},
     "output_type": "execute_result"
    }
   ],
   "source": [
    "df1"
   ]
  },
  {
   "cell_type": "code",
   "execution_count": 18,
   "id": "67e4044f",
   "metadata": {
    "ExecuteTime": {
     "end_time": "2023-06-18T01:47:49.941307Z",
     "start_time": "2023-06-18T01:47:49.306510Z"
    }
   },
   "outputs": [
    {
     "data": {
      "text/plain": "   0  1  2\n0  1  2  3\n1  4  5  6",
      "text/html": "<div>\n<style scoped>\n    .dataframe tbody tr th:only-of-type {\n        vertical-align: middle;\n    }\n\n    .dataframe tbody tr th {\n        vertical-align: top;\n    }\n\n    .dataframe thead th {\n        text-align: right;\n    }\n</style>\n<table border=\"1\" class=\"dataframe\">\n  <thead>\n    <tr style=\"text-align: right;\">\n      <th></th>\n      <th>0</th>\n      <th>1</th>\n      <th>2</th>\n    </tr>\n  </thead>\n  <tbody>\n    <tr>\n      <th>0</th>\n      <td>1</td>\n      <td>2</td>\n      <td>3</td>\n    </tr>\n    <tr>\n      <th>1</th>\n      <td>4</td>\n      <td>5</td>\n      <td>6</td>\n    </tr>\n  </tbody>\n</table>\n</div>"
     },
     "execution_count": 18,
     "metadata": {},
     "output_type": "execute_result"
    }
   ],
   "source": [
    "df2"
   ]
  },
  {
   "cell_type": "markdown",
   "id": "e2e290ac",
   "metadata": {},
   "source": [
    "## Arrays"
   ]
  },
  {
   "cell_type": "code",
   "execution_count": 19,
   "id": "741ba1d7",
   "metadata": {
    "ExecuteTime": {
     "end_time": "2023-06-18T01:47:49.941465Z",
     "start_time": "2023-06-18T01:47:49.309093Z"
    }
   },
   "outputs": [
    {
     "data": {
      "text/plain": "array([[1, 1, 1],\n       [1, 1, 1],\n       [1, 1, 1]])"
     },
     "execution_count": 19,
     "metadata": {},
     "output_type": "execute_result"
    }
   ],
   "source": [
    "ones = np.ones((3,3), dtype=int)\n",
    "ones"
   ]
  },
  {
   "cell_type": "code",
   "execution_count": 20,
   "id": "70f2b568",
   "metadata": {
    "ExecuteTime": {
     "end_time": "2023-06-18T01:47:49.941593Z",
     "start_time": "2023-06-18T01:47:49.311800Z"
    }
   },
   "outputs": [
    {
     "data": {
      "text/plain": "array([[0, 0, 0],\n       [0, 0, 0]])"
     },
     "execution_count": 20,
     "metadata": {},
     "output_type": "execute_result"
    }
   ],
   "source": [
    "zeros = np.zeros((2,3), dtype=int)\n",
    "zeros"
   ]
  },
  {
   "cell_type": "code",
   "execution_count": 21,
   "id": "8e110644",
   "metadata": {
    "ExecuteTime": {
     "end_time": "2023-06-18T01:47:49.941714Z",
     "start_time": "2023-06-18T01:47:49.314046Z"
    }
   },
   "outputs": [
    {
     "data": {
      "text/plain": "array([0, 2, 4, 6, 8])"
     },
     "execution_count": 21,
     "metadata": {},
     "output_type": "execute_result"
    }
   ],
   "source": [
    "range_array = np.arange(0, 10, 2)\n",
    "range_array"
   ]
  },
  {
   "cell_type": "code",
   "execution_count": 22,
   "id": "09339359",
   "metadata": {
    "ExecuteTime": {
     "end_time": "2023-06-18T01:47:49.941808Z",
     "start_time": "2023-06-18T01:47:49.317256Z"
    }
   },
   "outputs": [
    {
     "data": {
      "text/plain": "array([[9, 9, 6],\n       [9, 9, 3]])"
     },
     "execution_count": 22,
     "metadata": {},
     "output_type": "execute_result"
    }
   ],
   "source": [
    "randomint_array = np.random.randint(0, 10, size=(2,3))\n",
    "randomint_array"
   ]
  },
  {
   "cell_type": "code",
   "execution_count": 23,
   "id": "ffc32aa3",
   "metadata": {
    "ExecuteTime": {
     "end_time": "2023-06-18T01:47:49.942262Z",
     "start_time": "2023-06-18T01:47:49.320192Z"
    }
   },
   "outputs": [
    {
     "data": {
      "text/plain": "array([[0.5034642 , 0.33392643],\n       [0.61114605, 0.16333669],\n       [0.58269393, 0.82590538]])"
     },
     "execution_count": 23,
     "metadata": {},
     "output_type": "execute_result"
    }
   ],
   "source": [
    "randomfl_array = np.random.random(size=(3,2))\n",
    "randomfl_array"
   ]
  },
  {
   "cell_type": "code",
   "execution_count": 24,
   "id": "774a6f22",
   "metadata": {
    "ExecuteTime": {
     "end_time": "2023-06-18T01:47:49.942527Z",
     "start_time": "2023-06-18T01:47:49.322678Z"
    }
   },
   "outputs": [
    {
     "data": {
      "text/plain": "array([[0.52625167, 0.74519558],\n       [0.25791657, 0.70214676],\n       [0.99847857, 0.13027349]])"
     },
     "execution_count": 24,
     "metadata": {},
     "output_type": "execute_result"
    }
   ],
   "source": [
    "randomfl_array2 = np.random.rand(3, 2)\n",
    "randomfl_array2"
   ]
  },
  {
   "cell_type": "code",
   "execution_count": 25,
   "id": "85540cad",
   "metadata": {
    "ExecuteTime": {
     "end_time": "2023-06-18T01:47:49.942764Z",
     "start_time": "2023-06-18T01:47:49.325086Z"
    }
   },
   "outputs": [
    {
     "data": {
      "text/plain": "array([[7, 5, 1],\n       [8, 7, 8]])"
     },
     "execution_count": 25,
     "metadata": {},
     "output_type": "execute_result"
    }
   ],
   "source": [
    "# Random Seeds - when you re-run this block the random numbers won't change\n",
    "np.random.seed(4)\n",
    "randomint_array = np.random.randint(0, 10, size=(2,3))\n",
    "randomint_array"
   ]
  },
  {
   "cell_type": "markdown",
   "id": "e177fa81",
   "metadata": {},
   "source": [
    "## Viewing & Slicing Arrays"
   ]
  },
  {
   "cell_type": "code",
   "execution_count": 26,
   "id": "201c59e7",
   "metadata": {
    "ExecuteTime": {
     "end_time": "2023-06-18T01:47:49.942903Z",
     "start_time": "2023-06-18T01:47:49.327530Z"
    }
   },
   "outputs": [
    {
     "data": {
      "text/plain": "array([[2, 9, 7, 7],\n       [7, 9, 8, 4],\n       [2, 6, 4, 3],\n       [0, 7, 5, 5]])"
     },
     "execution_count": 26,
     "metadata": {},
     "output_type": "execute_result"
    }
   ],
   "source": [
    "randomint_array = np.random.randint(0, 10, size=(4,4))\n",
    "randomint_array"
   ]
  },
  {
   "cell_type": "code",
   "execution_count": 27,
   "id": "fb22cc6b",
   "metadata": {
    "ExecuteTime": {
     "end_time": "2023-06-18T01:47:49.943024Z",
     "start_time": "2023-06-18T01:47:49.329918Z"
    }
   },
   "outputs": [
    {
     "data": {
      "text/plain": "array([0, 2, 3, 4, 5, 6, 7, 8, 9])"
     },
     "execution_count": 27,
     "metadata": {},
     "output_type": "execute_result"
    }
   ],
   "source": [
    "np.unique(randomint_array)"
   ]
  },
  {
   "cell_type": "code",
   "execution_count": 28,
   "id": "2a143ade",
   "metadata": {
    "ExecuteTime": {
     "end_time": "2023-06-18T01:47:49.943138Z",
     "start_time": "2023-06-18T01:47:49.332702Z"
    }
   },
   "outputs": [
    {
     "data": {
      "text/plain": "array([1, 2, 3])"
     },
     "execution_count": 28,
     "metadata": {},
     "output_type": "execute_result"
    }
   ],
   "source": [
    "a1"
   ]
  },
  {
   "cell_type": "code",
   "execution_count": 29,
   "id": "02cc96dd",
   "metadata": {
    "ExecuteTime": {
     "end_time": "2023-06-18T01:47:49.943272Z",
     "start_time": "2023-06-18T01:47:49.335161Z"
    }
   },
   "outputs": [
    {
     "data": {
      "text/plain": "1"
     },
     "execution_count": 29,
     "metadata": {},
     "output_type": "execute_result"
    }
   ],
   "source": [
    "a1[0]"
   ]
  },
  {
   "cell_type": "code",
   "execution_count": 30,
   "id": "4fc7f2d3",
   "metadata": {
    "ExecuteTime": {
     "end_time": "2023-06-18T01:47:49.943390Z",
     "start_time": "2023-06-18T01:47:49.337420Z"
    }
   },
   "outputs": [
    {
     "data": {
      "text/plain": "array([[1, 2, 3],\n       [4, 5, 6]])"
     },
     "execution_count": 30,
     "metadata": {},
     "output_type": "execute_result"
    }
   ],
   "source": [
    "a2"
   ]
  },
  {
   "cell_type": "code",
   "execution_count": 31,
   "id": "7dbef30b",
   "metadata": {
    "ExecuteTime": {
     "end_time": "2023-06-18T01:47:49.943482Z",
     "start_time": "2023-06-18T01:47:49.340218Z"
    }
   },
   "outputs": [
    {
     "data": {
      "text/plain": "array([4, 5, 6])"
     },
     "execution_count": 31,
     "metadata": {},
     "output_type": "execute_result"
    }
   ],
   "source": [
    "a2[1]"
   ]
  },
  {
   "cell_type": "code",
   "execution_count": 32,
   "id": "26bc9dfe",
   "metadata": {
    "ExecuteTime": {
     "end_time": "2023-06-18T01:47:49.943568Z",
     "start_time": "2023-06-18T01:47:49.342562Z"
    }
   },
   "outputs": [
    {
     "data": {
      "text/plain": "array([[[ 1,  2,  3],\n        [ 4,  5,  6]],\n\n       [[ 7,  8,  9],\n        [10, 11, 12]]])"
     },
     "execution_count": 32,
     "metadata": {},
     "output_type": "execute_result"
    }
   ],
   "source": [
    "a3"
   ]
  },
  {
   "cell_type": "code",
   "execution_count": 33,
   "id": "8dc9f70e",
   "metadata": {
    "ExecuteTime": {
     "end_time": "2023-06-18T01:47:49.943677Z",
     "start_time": "2023-06-18T01:47:49.345002Z"
    }
   },
   "outputs": [
    {
     "data": {
      "text/plain": "array([[1, 2, 3],\n       [4, 5, 6]])"
     },
     "execution_count": 33,
     "metadata": {},
     "output_type": "execute_result"
    }
   ],
   "source": [
    "a3[0]"
   ]
  },
  {
   "cell_type": "code",
   "execution_count": 34,
   "id": "3406f0e2",
   "metadata": {
    "ExecuteTime": {
     "end_time": "2023-06-18T01:47:49.943788Z",
     "start_time": "2023-06-18T01:47:49.351552Z"
    }
   },
   "outputs": [
    {
     "data": {
      "text/plain": "array([[[1, 2, 3]]])"
     },
     "execution_count": 34,
     "metadata": {},
     "output_type": "execute_result"
    }
   ],
   "source": [
    "a3[ :1, :1]"
   ]
  },
  {
   "cell_type": "code",
   "execution_count": 35,
   "id": "73e9f1cf",
   "metadata": {
    "ExecuteTime": {
     "end_time": "2023-06-18T01:47:49.943879Z",
     "start_time": "2023-06-18T01:47:49.353847Z"
    }
   },
   "outputs": [
    {
     "data": {
      "text/plain": "array([[[1],\n        [4]]])"
     },
     "execution_count": 35,
     "metadata": {},
     "output_type": "execute_result"
    }
   ],
   "source": [
    "a3[ :1, :2, :1]"
   ]
  },
  {
   "cell_type": "markdown",
   "id": "fdac284c",
   "metadata": {},
   "source": [
    "## Arithmetic"
   ]
  },
  {
   "cell_type": "code",
   "execution_count": 36,
   "id": "02f559f6",
   "metadata": {
    "ExecuteTime": {
     "end_time": "2023-06-18T01:47:49.943995Z",
     "start_time": "2023-06-18T01:47:49.356085Z"
    }
   },
   "outputs": [
    {
     "data": {
      "text/plain": "array([1, 2, 3])"
     },
     "execution_count": 36,
     "metadata": {},
     "output_type": "execute_result"
    }
   ],
   "source": [
    "a1"
   ]
  },
  {
   "cell_type": "code",
   "execution_count": 37,
   "id": "54f83470",
   "metadata": {
    "ExecuteTime": {
     "end_time": "2023-06-18T01:47:49.944112Z",
     "start_time": "2023-06-18T01:47:49.358178Z"
    }
   },
   "outputs": [
    {
     "data": {
      "text/plain": "array([[1, 2, 3],\n       [1, 2, 3],\n       [1, 2, 3]])"
     },
     "execution_count": 37,
     "metadata": {},
     "output_type": "execute_result"
    }
   ],
   "source": [
    "a1 * ones"
   ]
  },
  {
   "cell_type": "code",
   "execution_count": 38,
   "id": "53c5f128",
   "metadata": {
    "ExecuteTime": {
     "end_time": "2023-06-18T01:47:49.944214Z",
     "start_time": "2023-06-18T01:47:49.360689Z"
    }
   },
   "outputs": [
    {
     "data": {
      "text/plain": "array([[1, 1, 1],\n       [1, 1, 1],\n       [1, 1, 1]])"
     },
     "execution_count": 38,
     "metadata": {},
     "output_type": "execute_result"
    }
   ],
   "source": [
    "ones"
   ]
  },
  {
   "cell_type": "code",
   "execution_count": 39,
   "id": "cf8981ab",
   "metadata": {
    "ExecuteTime": {
     "end_time": "2023-06-18T01:47:49.944314Z",
     "start_time": "2023-06-18T01:47:49.363687Z"
    }
   },
   "outputs": [
    {
     "data": {
      "text/plain": "array([[1, 2, 3],\n       [1, 2, 3],\n       [1, 2, 3]])"
     },
     "execution_count": 39,
     "metadata": {},
     "output_type": "execute_result"
    }
   ],
   "source": [
    "ones * a1"
   ]
  },
  {
   "cell_type": "code",
   "execution_count": 40,
   "id": "1ca29ca9",
   "metadata": {
    "ExecuteTime": {
     "end_time": "2023-06-18T01:47:49.944408Z",
     "start_time": "2023-06-18T01:47:49.366749Z"
    }
   },
   "outputs": [
    {
     "data": {
      "text/plain": "array([2, 4, 6])"
     },
     "execution_count": 40,
     "metadata": {},
     "output_type": "execute_result"
    }
   ],
   "source": [
    "a1 * 2"
   ]
  },
  {
   "cell_type": "code",
   "execution_count": 41,
   "id": "60dab4ca",
   "metadata": {
    "ExecuteTime": {
     "end_time": "2023-06-18T01:47:49.944497Z",
     "start_time": "2023-06-18T01:47:49.369333Z"
    }
   },
   "outputs": [
    {
     "data": {
      "text/plain": "array([[2, 3, 4],\n       [2, 3, 4],\n       [2, 3, 4]])"
     },
     "execution_count": 41,
     "metadata": {},
     "output_type": "execute_result"
    }
   ],
   "source": [
    "a1 + ones"
   ]
  },
  {
   "cell_type": "code",
   "execution_count": 42,
   "id": "53a376ec",
   "metadata": {
    "ExecuteTime": {
     "end_time": "2023-06-18T01:47:49.944594Z",
     "start_time": "2023-06-18T01:47:49.371712Z"
    }
   },
   "outputs": [
    {
     "data": {
      "text/plain": "array([[2, 4, 6],\n       [5, 7, 9]])"
     },
     "execution_count": 42,
     "metadata": {},
     "output_type": "execute_result"
    }
   ],
   "source": [
    "a1 + a2"
   ]
  },
  {
   "cell_type": "code",
   "execution_count": 43,
   "id": "c9ba44df",
   "metadata": {
    "ExecuteTime": {
     "end_time": "2023-06-18T01:47:49.944689Z",
     "start_time": "2023-06-18T01:47:49.373461Z"
    }
   },
   "outputs": [
    {
     "data": {
      "text/plain": "array([[1, 2, 3],\n       [4, 5, 6]])"
     },
     "execution_count": 43,
     "metadata": {},
     "output_type": "execute_result"
    }
   ],
   "source": [
    "a2"
   ]
  },
  {
   "cell_type": "code",
   "execution_count": 44,
   "id": "b6d1bbc8",
   "metadata": {
    "ExecuteTime": {
     "end_time": "2023-06-18T01:47:49.944785Z",
     "start_time": "2023-06-18T01:47:49.376308Z"
    }
   },
   "outputs": [
    {
     "data": {
      "text/plain": "array([[[ 1,  2,  3],\n        [ 4,  5,  6]],\n\n       [[ 7,  8,  9],\n        [10, 11, 12]]])"
     },
     "execution_count": 44,
     "metadata": {},
     "output_type": "execute_result"
    }
   ],
   "source": [
    "a3"
   ]
  },
  {
   "cell_type": "code",
   "execution_count": 45,
   "id": "d8ad3d25",
   "metadata": {
    "ExecuteTime": {
     "end_time": "2023-06-18T01:47:49.944877Z",
     "start_time": "2023-06-18T01:47:49.378390Z"
    }
   },
   "outputs": [
    {
     "data": {
      "text/plain": "(2, 2, 3)"
     },
     "execution_count": 45,
     "metadata": {},
     "output_type": "execute_result"
    }
   ],
   "source": [
    "a3.shape"
   ]
  },
  {
   "cell_type": "code",
   "execution_count": 46,
   "id": "2937deb5",
   "metadata": {
    "ExecuteTime": {
     "end_time": "2023-06-18T01:47:49.944969Z",
     "start_time": "2023-06-18T01:47:49.380466Z"
    }
   },
   "outputs": [
    {
     "data": {
      "text/plain": "array([[[ 1,  2,  3],\n        [ 4,  5,  6],\n        [ 7,  8,  9]],\n\n       [[10, 11, 12],\n        [13, 14, 15],\n        [16, 17, 18]]])"
     },
     "execution_count": 46,
     "metadata": {},
     "output_type": "execute_result"
    }
   ],
   "source": [
    "a3 = np.array([[[1, 2, 3],\n",
    "               [4, 5, 6], \n",
    "               [7, 8, 9]],\n",
    "              [[10, 11, 12],\n",
    "              [13, 14, 15],\n",
    "              [16, 17, 18]]])\n",
    "\n",
    "a3"
   ]
  },
  {
   "cell_type": "code",
   "execution_count": 47,
   "id": "f60afcbf",
   "metadata": {
    "ExecuteTime": {
     "end_time": "2023-06-18T01:47:49.951544Z",
     "start_time": "2023-06-18T01:47:49.384522Z"
    }
   },
   "outputs": [
    {
     "data": {
      "text/plain": "(2, 3, 3)"
     },
     "execution_count": 47,
     "metadata": {},
     "output_type": "execute_result"
    }
   ],
   "source": [
    "a3.shape"
   ]
  },
  {
   "cell_type": "code",
   "execution_count": 48,
   "id": "fa332890",
   "metadata": {
    "ExecuteTime": {
     "end_time": "2023-06-18T01:47:49.951910Z",
     "start_time": "2023-06-18T01:47:49.387084Z"
    }
   },
   "outputs": [
    {
     "data": {
      "text/plain": "(2, 3)"
     },
     "execution_count": 48,
     "metadata": {},
     "output_type": "execute_result"
    }
   ],
   "source": [
    "a2.shape"
   ]
  },
  {
   "cell_type": "code",
   "execution_count": 49,
   "id": "0845e3f7",
   "metadata": {
    "ExecuteTime": {
     "end_time": "2023-06-18T01:47:49.952088Z",
     "start_time": "2023-06-18T01:47:49.389912Z"
    }
   },
   "outputs": [
    {
     "data": {
      "text/plain": "array([[1, 2, 3],\n       [4, 5, 6]])"
     },
     "execution_count": 49,
     "metadata": {},
     "output_type": "execute_result"
    }
   ],
   "source": [
    "# cannot * a2 and a3 anymore because the shapes don't match\n",
    "# i.e. since a2 has the shape of (2,3), it needs to match the last two numbers of the shape of a3 i.e. needs to be equal shape\n",
    "# another easy option is that one of the shape numbers needs to be 1, i.e. we could also add 1 dimension to a2 and make it (2,3,1)\n",
    "# therefore we need to reshape a3 into (3,2,3)\n",
    "# this is because the number of elements in the matrices should be the same in order to reshape i.e. 3*2*3 = 2*3*3\n",
    "\n",
    "a2"
   ]
  },
  {
   "cell_type": "code",
   "execution_count": 50,
   "id": "859a4aa6",
   "metadata": {
    "ExecuteTime": {
     "end_time": "2023-06-18T01:47:49.952219Z",
     "start_time": "2023-06-18T01:47:49.392832Z"
    }
   },
   "outputs": [
    {
     "data": {
      "text/plain": "array([ 1,  2,  3,  4,  5,  6,  7,  8,  9, 10, 11, 12, 13, 14, 15, 16, 17,\n       18])"
     },
     "execution_count": 50,
     "metadata": {},
     "output_type": "execute_result"
    }
   ],
   "source": [
    "a3.reshape(-1) # flattens an array into 1D"
   ]
  },
  {
   "cell_type": "code",
   "execution_count": 51,
   "id": "e438253f",
   "metadata": {
    "ExecuteTime": {
     "end_time": "2023-06-18T01:47:49.952333Z",
     "start_time": "2023-06-18T01:47:49.395658Z"
    }
   },
   "outputs": [
    {
     "data": {
      "text/plain": "array([[[ 1,  2,  3],\n        [ 4,  5,  6]],\n\n       [[ 7,  8,  9],\n        [10, 11, 12]],\n\n       [[13, 14, 15],\n        [16, 17, 18]]])"
     },
     "execution_count": 51,
     "metadata": {},
     "output_type": "execute_result"
    }
   ],
   "source": [
    "a3.reshape(3,2,3)"
   ]
  },
  {
   "cell_type": "code",
   "execution_count": 52,
   "id": "e51966ce",
   "metadata": {
    "ExecuteTime": {
     "end_time": "2023-06-18T01:47:49.952470Z",
     "start_time": "2023-06-18T01:47:49.398733Z"
    }
   },
   "outputs": [
    {
     "data": {
      "text/plain": "array([[[  1,   4,   9],\n        [ 16,  25,  36]],\n\n       [[  7,  16,  27],\n        [ 40,  55,  72]],\n\n       [[ 13,  28,  45],\n        [ 64,  85, 108]]])"
     },
     "execution_count": 52,
     "metadata": {},
     "output_type": "execute_result"
    }
   ],
   "source": [
    "a2 * a3.reshape(3,2,3) # now works after reshaping"
   ]
  },
  {
   "cell_type": "code",
   "execution_count": 53,
   "id": "7e11b7fd",
   "metadata": {
    "ExecuteTime": {
     "end_time": "2023-06-18T01:47:49.952593Z",
     "start_time": "2023-06-18T01:47:49.401245Z"
    }
   },
   "outputs": [
    {
     "data": {
      "text/plain": "array([1, 2, 3])"
     },
     "execution_count": 53,
     "metadata": {},
     "output_type": "execute_result"
    }
   ],
   "source": [
    "a1"
   ]
  },
  {
   "cell_type": "code",
   "execution_count": 54,
   "id": "1955a603",
   "metadata": {
    "ExecuteTime": {
     "end_time": "2023-06-18T01:47:49.952867Z",
     "start_time": "2023-06-18T01:47:49.403675Z"
    }
   },
   "outputs": [
    {
     "data": {
      "text/plain": "array([0.5, 1. , 1.5])"
     },
     "execution_count": 54,
     "metadata": {},
     "output_type": "execute_result"
    }
   ],
   "source": [
    "a1 / 2"
   ]
  },
  {
   "cell_type": "code",
   "execution_count": 55,
   "id": "e630c0e6",
   "metadata": {
    "ExecuteTime": {
     "end_time": "2023-06-18T01:47:49.953049Z",
     "start_time": "2023-06-18T01:47:49.406529Z"
    }
   },
   "outputs": [
    {
     "data": {
      "text/plain": "array([1, 0, 1])"
     },
     "execution_count": 55,
     "metadata": {},
     "output_type": "execute_result"
    }
   ],
   "source": [
    "a1 % 2"
   ]
  },
  {
   "cell_type": "code",
   "execution_count": 56,
   "id": "63d4e5f5",
   "metadata": {
    "ExecuteTime": {
     "end_time": "2023-06-18T01:47:49.953181Z",
     "start_time": "2023-06-18T01:47:49.409122Z"
    }
   },
   "outputs": [
    {
     "data": {
      "text/plain": "array([0, 1, 1])"
     },
     "execution_count": 56,
     "metadata": {},
     "output_type": "execute_result"
    }
   ],
   "source": [
    "a1 // 2 # floor division i.e. cuts out the decimals"
   ]
  },
  {
   "cell_type": "code",
   "execution_count": 57,
   "id": "8b6224fe",
   "metadata": {
    "ExecuteTime": {
     "end_time": "2023-06-18T01:47:49.953287Z",
     "start_time": "2023-06-18T01:47:49.411746Z"
    }
   },
   "outputs": [
    {
     "data": {
      "text/plain": "array([1, 4, 9])"
     },
     "execution_count": 57,
     "metadata": {},
     "output_type": "execute_result"
    }
   ],
   "source": [
    "a1 ** 2 # powers"
   ]
  },
  {
   "cell_type": "code",
   "execution_count": 58,
   "id": "93824a30",
   "metadata": {
    "ExecuteTime": {
     "end_time": "2023-06-18T01:47:49.953392Z",
     "start_time": "2023-06-18T01:47:49.414335Z"
    }
   },
   "outputs": [
    {
     "data": {
      "text/plain": "array([ 2.71828183,  7.3890561 , 20.08553692])"
     },
     "execution_count": 58,
     "metadata": {},
     "output_type": "execute_result"
    }
   ],
   "source": [
    "np.exp(a1) # e^n"
   ]
  },
  {
   "cell_type": "code",
   "execution_count": 59,
   "id": "19acb81c",
   "metadata": {
    "ExecuteTime": {
     "end_time": "2023-06-18T01:47:49.953533Z",
     "start_time": "2023-06-18T01:47:49.416772Z"
    }
   },
   "outputs": [
    {
     "data": {
      "text/plain": "array([0.        , 0.69314718, 1.09861229])"
     },
     "execution_count": 59,
     "metadata": {},
     "output_type": "execute_result"
    }
   ],
   "source": [
    "np.log(a1)"
   ]
  },
  {
   "cell_type": "markdown",
   "id": "dfe2ac6e",
   "metadata": {},
   "source": [
    "## Aggregation"
   ]
  },
  {
   "cell_type": "code",
   "execution_count": 60,
   "id": "9f7347cf",
   "metadata": {
    "ExecuteTime": {
     "end_time": "2023-06-18T01:47:49.953697Z",
     "start_time": "2023-06-18T01:47:49.419372Z"
    }
   },
   "outputs": [
    {
     "data": {
      "text/plain": "list"
     },
     "execution_count": 60,
     "metadata": {},
     "output_type": "execute_result"
    }
   ],
   "source": [
    "# Normal python lists\n",
    "\n",
    "l1 = [1,2,3]\n",
    "type(l1)"
   ]
  },
  {
   "cell_type": "code",
   "execution_count": 61,
   "id": "b6a5e6dc",
   "metadata": {
    "ExecuteTime": {
     "end_time": "2023-06-18T01:47:49.953819Z",
     "start_time": "2023-06-18T01:47:49.421926Z"
    }
   },
   "outputs": [
    {
     "data": {
      "text/plain": "6"
     },
     "execution_count": 61,
     "metadata": {},
     "output_type": "execute_result"
    }
   ],
   "source": [
    "sum(l1)"
   ]
  },
  {
   "cell_type": "code",
   "execution_count": 62,
   "id": "f9f8af70",
   "metadata": {
    "ExecuteTime": {
     "end_time": "2023-06-18T01:47:49.953930Z",
     "start_time": "2023-06-18T01:47:49.424487Z"
    }
   },
   "outputs": [
    {
     "data": {
      "text/plain": "array([1, 2, 3])"
     },
     "execution_count": 62,
     "metadata": {},
     "output_type": "execute_result"
    }
   ],
   "source": [
    "a1"
   ]
  },
  {
   "cell_type": "code",
   "execution_count": 63,
   "id": "5acad19f",
   "metadata": {
    "ExecuteTime": {
     "end_time": "2023-06-18T01:47:49.954026Z",
     "start_time": "2023-06-18T01:47:49.427023Z"
    }
   },
   "outputs": [
    {
     "data": {
      "text/plain": "6"
     },
     "execution_count": 63,
     "metadata": {},
     "output_type": "execute_result"
    }
   ],
   "source": [
    "np.sum(a1)"
   ]
  },
  {
   "cell_type": "code",
   "execution_count": 64,
   "id": "d5a028c8",
   "metadata": {
    "ExecuteTime": {
     "end_time": "2023-06-18T01:47:49.954134Z",
     "start_time": "2023-06-18T01:47:49.429038Z"
    }
   },
   "outputs": [
    {
     "data": {
      "text/plain": "6"
     },
     "execution_count": 64,
     "metadata": {},
     "output_type": "execute_result"
    }
   ],
   "source": [
    "a1.sum()"
   ]
  },
  {
   "cell_type": "code",
   "execution_count": 65,
   "id": "727a5215",
   "metadata": {
    "ExecuteTime": {
     "end_time": "2023-06-18T01:47:49.954252Z",
     "start_time": "2023-06-18T01:47:49.431486Z"
    }
   },
   "outputs": [
    {
     "data": {
      "text/plain": "array([0.81194775, 0.61252534, 0.26647378, ..., 0.63898488, 0.0994288 ,\n       0.55476681])"
     },
     "execution_count": 65,
     "metadata": {},
     "output_type": "execute_result"
    }
   ],
   "source": [
    "# use the numpy sum with numpy types and the python sum with python lists or types in normal python\n",
    "\n",
    "large_dataset = np.random.random(1000000)\n",
    "large_dataset"
   ]
  },
  {
   "cell_type": "code",
   "execution_count": 66,
   "id": "324effd0",
   "metadata": {
    "ExecuteTime": {
     "end_time": "2023-06-18T01:48:07.835750Z",
     "start_time": "2023-06-18T01:47:49.439283Z"
    }
   },
   "outputs": [
    {
     "name": "stdout",
     "output_type": "stream",
     "text": [
      "187 µs ± 1.29 µs per loop (mean ± std. dev. of 7 runs, 10,000 loops each)\n",
      "39 ms ± 110 µs per loop (mean ± std. dev. of 7 runs, 10 loops each)\n"
     ]
    }
   ],
   "source": [
    "# its because numpy sum is a lot more faster and efficient when it comes to large numpy datasets and arrays\n",
    "\n",
    "%timeit np.sum(large_dataset)\n",
    "%timeit sum(large_dataset)"
   ]
  },
  {
   "cell_type": "code",
   "execution_count": 67,
   "id": "b484c834",
   "metadata": {
    "ExecuteTime": {
     "end_time": "2023-06-18T01:48:07.836485Z",
     "start_time": "2023-06-18T01:48:07.831022Z"
    }
   },
   "outputs": [
    {
     "data": {
      "text/plain": "array([[1, 2, 3],\n       [4, 5, 6]])"
     },
     "execution_count": 67,
     "metadata": {},
     "output_type": "execute_result"
    }
   ],
   "source": [
    "# stats with numpy\n",
    "\n",
    "a2"
   ]
  },
  {
   "cell_type": "code",
   "execution_count": 68,
   "id": "677a7551",
   "metadata": {
    "ExecuteTime": {
     "end_time": "2023-06-18T01:48:07.836607Z",
     "start_time": "2023-06-18T01:48:07.833188Z"
    }
   },
   "outputs": [
    {
     "data": {
      "text/plain": "1.707825127659933"
     },
     "execution_count": 68,
     "metadata": {},
     "output_type": "execute_result"
    }
   ],
   "source": [
    "a2.std()"
   ]
  },
  {
   "cell_type": "code",
   "execution_count": 69,
   "id": "a9fad7d6",
   "metadata": {
    "ExecuteTime": {
     "end_time": "2023-06-18T01:48:07.844156Z",
     "start_time": "2023-06-18T01:48:07.836118Z"
    }
   },
   "outputs": [
    {
     "data": {
      "text/plain": "2.9166666666666665"
     },
     "execution_count": 69,
     "metadata": {},
     "output_type": "execute_result"
    }
   ],
   "source": [
    "a2.var()"
   ]
  },
  {
   "cell_type": "code",
   "execution_count": 70,
   "id": "b3301e00",
   "metadata": {
    "ExecuteTime": {
     "end_time": "2023-06-18T01:48:07.844387Z",
     "start_time": "2023-06-18T01:48:07.838646Z"
    }
   },
   "outputs": [
    {
     "data": {
      "text/plain": "3.5"
     },
     "execution_count": 70,
     "metadata": {},
     "output_type": "execute_result"
    }
   ],
   "source": [
    "a2.mean()"
   ]
  },
  {
   "cell_type": "code",
   "execution_count": 71,
   "id": "1512663d",
   "metadata": {
    "ExecuteTime": {
     "end_time": "2023-06-18T01:48:07.844494Z",
     "start_time": "2023-06-18T01:48:07.841027Z"
    }
   },
   "outputs": [
    {
     "data": {
      "text/plain": "6"
     },
     "execution_count": 71,
     "metadata": {},
     "output_type": "execute_result"
    }
   ],
   "source": [
    "a2.max()"
   ]
  },
  {
   "cell_type": "code",
   "execution_count": 72,
   "id": "a0f44827",
   "metadata": {
    "ExecuteTime": {
     "end_time": "2023-06-18T01:48:07.851586Z",
     "start_time": "2023-06-18T01:48:07.843575Z"
    }
   },
   "outputs": [
    {
     "data": {
      "text/plain": "1"
     },
     "execution_count": 72,
     "metadata": {},
     "output_type": "execute_result"
    }
   ],
   "source": [
    "a2.min()"
   ]
  },
  {
   "cell_type": "markdown",
   "id": "a702ace9",
   "metadata": {},
   "source": [
    "## Transpose & Reshaping"
   ]
  },
  {
   "cell_type": "code",
   "execution_count": 73,
   "id": "ae2b0651",
   "metadata": {
    "ExecuteTime": {
     "end_time": "2023-06-18T01:48:07.851797Z",
     "start_time": "2023-06-18T01:48:07.846241Z"
    }
   },
   "outputs": [],
   "source": [
    "# Rules for reshaping - needs to be equal or at least one number has to be 1 in the shape numbers\n",
    "# keep in mind that when broadcasting, it compares the shapes starting at the end\n",
    "# so (2,3,3) * (1,2,3) wont work since it starts at the ends and notices that 2 does not equal 3\n",
    "# but (2,3,3) * (2,1,3) will work or also (2,3,3) * (2,3,1)\n",
    "# and also when using reshape make sure the new shape can fit the same number of elements by multiplying all the numbers"
   ]
  },
  {
   "cell_type": "code",
   "execution_count": 74,
   "id": "570bae4e",
   "metadata": {
    "ExecuteTime": {
     "end_time": "2023-06-18T01:48:07.851943Z",
     "start_time": "2023-06-18T01:48:07.848321Z"
    }
   },
   "outputs": [
    {
     "data": {
      "text/plain": "((2, 3),\n array([[1, 2, 3],\n        [4, 5, 6]]))"
     },
     "execution_count": 74,
     "metadata": {},
     "output_type": "execute_result"
    }
   ],
   "source": [
    "a2.shape, a2"
   ]
  },
  {
   "cell_type": "code",
   "execution_count": 75,
   "id": "d75f36e1",
   "metadata": {
    "ExecuteTime": {
     "end_time": "2023-06-18T01:48:07.858472Z",
     "start_time": "2023-06-18T01:48:07.850871Z"
    }
   },
   "outputs": [
    {
     "data": {
      "text/plain": "((2, 3, 3),\n array([[[ 1,  2,  3],\n         [ 4,  5,  6],\n         [ 7,  8,  9]],\n \n        [[10, 11, 12],\n         [13, 14, 15],\n         [16, 17, 18]]]))"
     },
     "execution_count": 75,
     "metadata": {},
     "output_type": "execute_result"
    }
   ],
   "source": [
    "a3.shape, a3"
   ]
  },
  {
   "cell_type": "code",
   "execution_count": 76,
   "id": "cf6b06c1",
   "metadata": {
    "ExecuteTime": {
     "end_time": "2023-06-18T01:48:07.858731Z",
     "start_time": "2023-06-18T01:48:07.853724Z"
    }
   },
   "outputs": [
    {
     "data": {
      "text/plain": "array([[[1],\n        [2],\n        [3]],\n\n       [[4],\n        [5],\n        [6]]])"
     },
     "execution_count": 76,
     "metadata": {},
     "output_type": "execute_result"
    }
   ],
   "source": [
    "a2.reshape(2,3,1)"
   ]
  },
  {
   "cell_type": "code",
   "execution_count": 77,
   "id": "4bff88e0",
   "metadata": {
    "ExecuteTime": {
     "end_time": "2023-06-18T01:48:07.915520Z",
     "start_time": "2023-06-18T01:48:07.856207Z"
    }
   },
   "outputs": [
    {
     "data": {
      "text/plain": "array([[[  1,   4,   9],\n        [  4,  10,  18],\n        [  7,  16,  27]],\n\n       [[ 40,  55,  72],\n        [ 52,  70,  90],\n        [ 64,  85, 108]]])"
     },
     "execution_count": 77,
     "metadata": {},
     "output_type": "execute_result"
    }
   ],
   "source": [
    "a3 * a2.reshape(2,1,3)"
   ]
  },
  {
   "cell_type": "code",
   "execution_count": 78,
   "id": "f3c21dea",
   "metadata": {
    "ExecuteTime": {
     "end_time": "2023-06-18T01:48:07.916039Z",
     "start_time": "2023-06-18T01:48:07.859142Z"
    }
   },
   "outputs": [
    {
     "data": {
      "text/plain": "((2, 3),\n (3, 2),\n array([[1, 4],\n        [2, 5],\n        [3, 6]]))"
     },
     "execution_count": 78,
     "metadata": {},
     "output_type": "execute_result"
    }
   ],
   "source": [
    "# Transpose \n",
    "\n",
    "a2.shape, a2.T.shape, a2.T"
   ]
  },
  {
   "cell_type": "markdown",
   "id": "044e7351",
   "metadata": {},
   "source": [
    "## Dot Product"
   ]
  },
  {
   "cell_type": "code",
   "execution_count": 79,
   "id": "44fad9e9",
   "metadata": {
    "ExecuteTime": {
     "end_time": "2023-06-18T01:48:07.916558Z",
     "start_time": "2023-06-18T01:48:07.862639Z"
    }
   },
   "outputs": [
    {
     "data": {
      "text/plain": "array([[ 9, 15, 24,  4],\n       [16, 16, 24,  3],\n       [ 2, 17, 10,  8],\n       [14, 12,  9, 22],\n       [16, 14,  4,  6],\n       [20, 20, 23, 12],\n       [24,  9,  5,  6],\n       [ 5, 18,  6, 18]])"
     },
     "execution_count": 79,
     "metadata": {},
     "output_type": "execute_result"
    }
   ],
   "source": [
    "# keep in mind the dot product is actually the matrix multiplication\n",
    "\n",
    "np.random.seed(21)\n",
    "\n",
    "rand_matrix1 = np.random.randint(25, size=(8,4))\n",
    "rand_matrix2 = np.random.randint(25, size=(8,4))\n",
    "\n",
    "rand_matrix1"
   ]
  },
  {
   "cell_type": "code",
   "execution_count": 80,
   "id": "11df0ffa",
   "metadata": {
    "ExecuteTime": {
     "end_time": "2023-06-18T01:48:07.916719Z",
     "start_time": "2023-06-18T01:48:07.865159Z"
    }
   },
   "outputs": [
    {
     "data": {
      "text/plain": "array([[24, 12,  2, 16],\n       [21,  5, 16,  3],\n       [16, 24,  1, 12],\n       [16, 18, 15,  6],\n       [20,  9, 16, 13],\n       [ 0,  5,  5, 11],\n       [22,  3,  4, 12],\n       [12,  6,  0,  0]])"
     },
     "execution_count": 80,
     "metadata": {},
     "output_type": "execute_result"
    }
   ],
   "source": [
    "rand_matrix2"
   ]
  },
  {
   "cell_type": "code",
   "execution_count": 81,
   "id": "84cd39df",
   "metadata": {
    "ExecuteTime": {
     "end_time": "2023-06-18T01:48:07.916911Z",
     "start_time": "2023-06-18T01:48:07.867771Z"
    }
   },
   "outputs": [
    {
     "data": {
      "text/plain": "((8, 4), (8, 4))"
     },
     "execution_count": 81,
     "metadata": {},
     "output_type": "execute_result"
    }
   ],
   "source": [
    "rand_matrix1.shape, rand_matrix2.shape"
   ]
  },
  {
   "cell_type": "code",
   "execution_count": 82,
   "id": "0da65d2e",
   "metadata": {
    "ExecuteTime": {
     "end_time": "2023-06-18T01:48:07.917076Z",
     "start_time": "2023-06-18T01:48:07.870461Z"
    }
   },
   "outputs": [
    {
     "data": {
      "text/plain": "((4, 8), (8, 4))"
     },
     "execution_count": 82,
     "metadata": {},
     "output_type": "execute_result"
    }
   ],
   "source": [
    "# 4 and 8 are not equal so we have to transpose in order to use dot product i.e. matrix multiplication\n",
    "\n",
    "rand_matrix1.T.shape, rand_matrix2.shape"
   ]
  },
  {
   "cell_type": "code",
   "execution_count": 83,
   "id": "fb8b97ac",
   "metadata": {
    "ExecuteTime": {
     "end_time": "2023-06-18T01:48:07.917185Z",
     "start_time": "2023-06-18T01:48:07.873361Z"
    }
   },
   "outputs": [
    {
     "data": {
      "text/plain": "array([[1716,  834,  938, 1016],\n       [1854, 1245,  843, 1074],\n       [1646, 1012,  776,  995],\n       [1107,  891,  574,  583]])"
     },
     "execution_count": 83,
     "metadata": {},
     "output_type": "execute_result"
    }
   ],
   "source": [
    "np.dot(rand_matrix1.T, rand_matrix2)"
   ]
  },
  {
   "cell_type": "markdown",
   "id": "b5a177d9",
   "metadata": {},
   "source": [
    "## Aplications e.g. Price and Sales"
   ]
  },
  {
   "cell_type": "code",
   "execution_count": 84,
   "id": "4ab62861",
   "metadata": {
    "ExecuteTime": {
     "end_time": "2023-06-18T01:48:07.917312Z",
     "start_time": "2023-06-18T01:48:07.876034Z"
    }
   },
   "outputs": [
    {
     "data": {
      "text/plain": "array([[ 9, 36, 15,  0],\n       [28, 25, 29, 29],\n       [ 8,  9,  0, 36],\n       [16, 36, 11, 24],\n       [33,  8, 36, 14],\n       [13,  5, 13, 25],\n       [13, 28, 22, 30]])"
     },
     "execution_count": 84,
     "metadata": {},
     "output_type": "execute_result"
    }
   ],
   "source": [
    "# Online protien bar business sales\n",
    "\n",
    "np.random.seed(10)\n",
    "\n",
    "sales = np.random.randint(40, size=(7,4))\n",
    "sales"
   ]
  },
  {
   "cell_type": "code",
   "execution_count": 85,
   "id": "d1a31eda",
   "metadata": {
    "ExecuteTime": {
     "end_time": "2023-06-18T01:48:07.917437Z",
     "start_time": "2023-06-18T01:48:07.880228Z"
    }
   },
   "outputs": [
    {
     "data": {
      "text/plain": "       Peanut Butter  Almond Coconut  Choco Peanut Butter  Blueberry Almond\nMon                9              36                   15                 0\nTue               28              25                   29                29\nWed                8               9                    0                36\nThurs             16              36                   11                24\nFri               33               8                   36                14\nSat               13               5                   13                25\nSun               13              28                   22                30",
      "text/html": "<div>\n<style scoped>\n    .dataframe tbody tr th:only-of-type {\n        vertical-align: middle;\n    }\n\n    .dataframe tbody tr th {\n        vertical-align: top;\n    }\n\n    .dataframe thead th {\n        text-align: right;\n    }\n</style>\n<table border=\"1\" class=\"dataframe\">\n  <thead>\n    <tr style=\"text-align: right;\">\n      <th></th>\n      <th>Peanut Butter</th>\n      <th>Almond Coconut</th>\n      <th>Choco Peanut Butter</th>\n      <th>Blueberry Almond</th>\n    </tr>\n  </thead>\n  <tbody>\n    <tr>\n      <th>Mon</th>\n      <td>9</td>\n      <td>36</td>\n      <td>15</td>\n      <td>0</td>\n    </tr>\n    <tr>\n      <th>Tue</th>\n      <td>28</td>\n      <td>25</td>\n      <td>29</td>\n      <td>29</td>\n    </tr>\n    <tr>\n      <th>Wed</th>\n      <td>8</td>\n      <td>9</td>\n      <td>0</td>\n      <td>36</td>\n    </tr>\n    <tr>\n      <th>Thurs</th>\n      <td>16</td>\n      <td>36</td>\n      <td>11</td>\n      <td>24</td>\n    </tr>\n    <tr>\n      <th>Fri</th>\n      <td>33</td>\n      <td>8</td>\n      <td>36</td>\n      <td>14</td>\n    </tr>\n    <tr>\n      <th>Sat</th>\n      <td>13</td>\n      <td>5</td>\n      <td>13</td>\n      <td>25</td>\n    </tr>\n    <tr>\n      <th>Sun</th>\n      <td>13</td>\n      <td>28</td>\n      <td>22</td>\n      <td>30</td>\n    </tr>\n  </tbody>\n</table>\n</div>"
     },
     "execution_count": 85,
     "metadata": {},
     "output_type": "execute_result"
    }
   ],
   "source": [
    "weekly_sales_df = pd.DataFrame(sales, \n",
    "                              index=[\"Mon\", \"Tue\", \"Wed\", \"Thurs\", \"Fri\", \"Sat\", \"Sun\"], \n",
    "                              columns = [\"Peanut Butter\", \"Almond Coconut\", \"Choco Peanut Butter\", \"Blueberry Almond\"])\n",
    "\n",
    "weekly_sales_df"
   ]
  },
  {
   "cell_type": "code",
   "execution_count": 86,
   "id": "ee70cc4c",
   "metadata": {
    "ExecuteTime": {
     "end_time": "2023-06-18T01:48:07.917570Z",
     "start_time": "2023-06-18T01:48:07.883098Z"
    }
   },
   "outputs": [
    {
     "data": {
      "text/plain": "(4,)"
     },
     "execution_count": 86,
     "metadata": {},
     "output_type": "execute_result"
    }
   ],
   "source": [
    "# Prices for each flavor\n",
    "\n",
    "prices = np.array([3.99, 2.99, 6.99, 4.99])\n",
    "prices.shape"
   ]
  },
  {
   "cell_type": "code",
   "execution_count": 87,
   "id": "61d7e12b",
   "metadata": {
    "ExecuteTime": {
     "end_time": "2023-06-18T01:48:07.917668Z",
     "start_time": "2023-06-18T01:48:07.890151Z"
    }
   },
   "outputs": [
    {
     "data": {
      "text/plain": "       Peanut Butter  Almond Coconut  Choco Peanut Butter  Blueberry Almond\nPrice           3.99            2.99                 6.99              4.99",
      "text/html": "<div>\n<style scoped>\n    .dataframe tbody tr th:only-of-type {\n        vertical-align: middle;\n    }\n\n    .dataframe tbody tr th {\n        vertical-align: top;\n    }\n\n    .dataframe thead th {\n        text-align: right;\n    }\n</style>\n<table border=\"1\" class=\"dataframe\">\n  <thead>\n    <tr style=\"text-align: right;\">\n      <th></th>\n      <th>Peanut Butter</th>\n      <th>Almond Coconut</th>\n      <th>Choco Peanut Butter</th>\n      <th>Blueberry Almond</th>\n    </tr>\n  </thead>\n  <tbody>\n    <tr>\n      <th>Price</th>\n      <td>3.99</td>\n      <td>2.99</td>\n      <td>6.99</td>\n      <td>4.99</td>\n    </tr>\n  </tbody>\n</table>\n</div>"
     },
     "execution_count": 87,
     "metadata": {},
     "output_type": "execute_result"
    }
   ],
   "source": [
    "prices_df = pd.DataFrame(prices.reshape(1,4),\n",
    "                         index = [\"Price\"],\n",
    "                        columns=[\"Peanut Butter\", \"Almond Coconut\", \"Choco Peanut Butter\", \"Blueberry Almond\"])\n",
    "\n",
    "prices_df"
   ]
  },
  {
   "cell_type": "code",
   "execution_count": 88,
   "id": "36110c1c",
   "metadata": {
    "ExecuteTime": {
     "end_time": "2023-06-18T01:48:07.917834Z",
     "start_time": "2023-06-18T01:48:07.900769Z"
    }
   },
   "outputs": [
    {
     "data": {
      "text/plain": "((4,), (7, 4))"
     },
     "execution_count": 88,
     "metadata": {},
     "output_type": "execute_result"
    }
   ],
   "source": [
    "# Calculating total sales\n",
    "\n",
    "prices.shape, sales.shape"
   ]
  },
  {
   "cell_type": "code",
   "execution_count": 89,
   "id": "5aa3863a",
   "metadata": {
    "ExecuteTime": {
     "end_time": "2023-06-18T01:48:07.917895Z",
     "start_time": "2023-06-18T01:48:07.902457Z"
    }
   },
   "outputs": [],
   "source": [
    "total_sales = np.dot(prices.T, sales.T)"
   ]
  },
  {
   "cell_type": "code",
   "execution_count": 90,
   "id": "4a1c3147",
   "metadata": {
    "ExecuteTime": {
     "end_time": "2023-06-18T01:48:07.918053Z",
     "start_time": "2023-06-18T01:48:07.905682Z"
    }
   },
   "outputs": [
    {
     "data": {
      "text/plain": "array([248.4 , 533.89, 238.47, 368.13, 477.09, 282.44, 439.07])"
     },
     "execution_count": 90,
     "metadata": {},
     "output_type": "execute_result"
    }
   ],
   "source": [
    "total_sales"
   ]
  },
  {
   "cell_type": "code",
   "execution_count": 91,
   "id": "ba0713cf",
   "metadata": {
    "ExecuteTime": {
     "end_time": "2023-06-18T01:48:07.918151Z",
     "start_time": "2023-06-18T01:48:07.908672Z"
    }
   },
   "outputs": [],
   "source": [
    "weekly_sales_df[\"Total Sales\"] = total_sales"
   ]
  },
  {
   "cell_type": "code",
   "execution_count": 92,
   "id": "74eb90ff",
   "metadata": {
    "scrolled": true,
    "ExecuteTime": {
     "end_time": "2023-06-18T01:48:07.918264Z",
     "start_time": "2023-06-18T01:48:07.912029Z"
    }
   },
   "outputs": [
    {
     "data": {
      "text/plain": "       Peanut Butter  Almond Coconut  Choco Peanut Butter  Blueberry Almond  \\\nMon                9              36                   15                 0   \nTue               28              25                   29                29   \nWed                8               9                    0                36   \nThurs             16              36                   11                24   \nFri               33               8                   36                14   \nSat               13               5                   13                25   \nSun               13              28                   22                30   \n\n       Total Sales  \nMon         248.40  \nTue         533.89  \nWed         238.47  \nThurs       368.13  \nFri         477.09  \nSat         282.44  \nSun         439.07  ",
      "text/html": "<div>\n<style scoped>\n    .dataframe tbody tr th:only-of-type {\n        vertical-align: middle;\n    }\n\n    .dataframe tbody tr th {\n        vertical-align: top;\n    }\n\n    .dataframe thead th {\n        text-align: right;\n    }\n</style>\n<table border=\"1\" class=\"dataframe\">\n  <thead>\n    <tr style=\"text-align: right;\">\n      <th></th>\n      <th>Peanut Butter</th>\n      <th>Almond Coconut</th>\n      <th>Choco Peanut Butter</th>\n      <th>Blueberry Almond</th>\n      <th>Total Sales</th>\n    </tr>\n  </thead>\n  <tbody>\n    <tr>\n      <th>Mon</th>\n      <td>9</td>\n      <td>36</td>\n      <td>15</td>\n      <td>0</td>\n      <td>248.40</td>\n    </tr>\n    <tr>\n      <th>Tue</th>\n      <td>28</td>\n      <td>25</td>\n      <td>29</td>\n      <td>29</td>\n      <td>533.89</td>\n    </tr>\n    <tr>\n      <th>Wed</th>\n      <td>8</td>\n      <td>9</td>\n      <td>0</td>\n      <td>36</td>\n      <td>238.47</td>\n    </tr>\n    <tr>\n      <th>Thurs</th>\n      <td>16</td>\n      <td>36</td>\n      <td>11</td>\n      <td>24</td>\n      <td>368.13</td>\n    </tr>\n    <tr>\n      <th>Fri</th>\n      <td>33</td>\n      <td>8</td>\n      <td>36</td>\n      <td>14</td>\n      <td>477.09</td>\n    </tr>\n    <tr>\n      <th>Sat</th>\n      <td>13</td>\n      <td>5</td>\n      <td>13</td>\n      <td>25</td>\n      <td>282.44</td>\n    </tr>\n    <tr>\n      <th>Sun</th>\n      <td>13</td>\n      <td>28</td>\n      <td>22</td>\n      <td>30</td>\n      <td>439.07</td>\n    </tr>\n  </tbody>\n</table>\n</div>"
     },
     "execution_count": 92,
     "metadata": {},
     "output_type": "execute_result"
    }
   ],
   "source": [
    "weekly_sales_df"
   ]
  },
  {
   "cell_type": "markdown",
   "id": "cc0c3da0",
   "metadata": {},
   "source": [
    "## Comparison Operators"
   ]
  },
  {
   "cell_type": "code",
   "execution_count": 93,
   "id": "eb0bd381",
   "metadata": {
    "ExecuteTime": {
     "end_time": "2023-06-18T01:48:07.918697Z",
     "start_time": "2023-06-18T01:48:07.914593Z"
    }
   },
   "outputs": [
    {
     "data": {
      "text/plain": "array([1, 2, 3])"
     },
     "execution_count": 93,
     "metadata": {},
     "output_type": "execute_result"
    }
   ],
   "source": [
    "a1"
   ]
  },
  {
   "cell_type": "code",
   "execution_count": 94,
   "id": "46a6f46c",
   "metadata": {
    "ExecuteTime": {
     "end_time": "2023-06-18T01:48:07.918914Z",
     "start_time": "2023-06-18T01:48:07.917005Z"
    }
   },
   "outputs": [
    {
     "data": {
      "text/plain": "array([[1, 2, 3],\n       [4, 5, 6]])"
     },
     "execution_count": 94,
     "metadata": {},
     "output_type": "execute_result"
    }
   ],
   "source": [
    "a2"
   ]
  },
  {
   "cell_type": "code",
   "execution_count": 95,
   "id": "6c5da6c9",
   "metadata": {
    "ExecuteTime": {
     "end_time": "2023-06-18T01:48:07.935716Z",
     "start_time": "2023-06-18T01:48:07.919549Z"
    }
   },
   "outputs": [
    {
     "data": {
      "text/plain": "array([[ True,  True,  True],\n       [False, False, False]])"
     },
     "execution_count": 95,
     "metadata": {},
     "output_type": "execute_result"
    }
   ],
   "source": [
    "a1 == a2"
   ]
  },
  {
   "cell_type": "code",
   "execution_count": 96,
   "id": "fcc87bff",
   "metadata": {
    "ExecuteTime": {
     "end_time": "2023-06-18T01:48:07.935949Z",
     "start_time": "2023-06-18T01:48:07.922413Z"
    }
   },
   "outputs": [
    {
     "data": {
      "text/plain": "array([[False, False, False],\n       [False, False, False]])"
     },
     "execution_count": 96,
     "metadata": {},
     "output_type": "execute_result"
    }
   ],
   "source": [
    "a1 > a2"
   ]
  },
  {
   "cell_type": "code",
   "execution_count": 97,
   "id": "013eb620",
   "metadata": {
    "ExecuteTime": {
     "end_time": "2023-06-18T01:48:07.936059Z",
     "start_time": "2023-06-18T01:48:07.924441Z"
    }
   },
   "outputs": [
    {
     "data": {
      "text/plain": "array([ True,  True,  True])"
     },
     "execution_count": 97,
     "metadata": {},
     "output_type": "execute_result"
    }
   ],
   "source": [
    "a1 < 5"
   ]
  },
  {
   "cell_type": "markdown",
   "id": "b7fa466b",
   "metadata": {},
   "source": [
    "## Sorting"
   ]
  },
  {
   "cell_type": "code",
   "execution_count": 98,
   "id": "f7b66900",
   "metadata": {
    "ExecuteTime": {
     "end_time": "2023-06-18T01:48:07.936152Z",
     "start_time": "2023-06-18T01:48:07.927416Z"
    }
   },
   "outputs": [
    {
     "data": {
      "text/plain": "array([[9, 1, 9],\n       [4, 2, 6]])"
     },
     "execution_count": 98,
     "metadata": {},
     "output_type": "execute_result"
    }
   ],
   "source": [
    "random_array = np.random.randint(10, size=(2,3))\n",
    "random_array"
   ]
  },
  {
   "cell_type": "code",
   "execution_count": 99,
   "id": "667d7515",
   "metadata": {
    "ExecuteTime": {
     "end_time": "2023-06-18T01:48:07.936252Z",
     "start_time": "2023-06-18T01:48:07.929981Z"
    }
   },
   "outputs": [
    {
     "data": {
      "text/plain": "array([[1, 9, 9],\n       [2, 4, 6]])"
     },
     "execution_count": 99,
     "metadata": {},
     "output_type": "execute_result"
    }
   ],
   "source": [
    "np.sort(random_array)"
   ]
  },
  {
   "cell_type": "code",
   "execution_count": 100,
   "id": "7d8b0336",
   "metadata": {
    "ExecuteTime": {
     "end_time": "2023-06-18T01:48:07.936344Z",
     "start_time": "2023-06-18T01:48:07.932124Z"
    }
   },
   "outputs": [
    {
     "data": {
      "text/plain": "array([[9, 1, 9],\n       [4, 2, 6]])"
     },
     "execution_count": 100,
     "metadata": {},
     "output_type": "execute_result"
    }
   ],
   "source": [
    "random_array"
   ]
  },
  {
   "cell_type": "code",
   "execution_count": 101,
   "id": "f63f978e",
   "metadata": {
    "ExecuteTime": {
     "end_time": "2023-06-18T01:48:08.037766Z",
     "start_time": "2023-06-18T01:48:07.934903Z"
    }
   },
   "outputs": [
    {
     "data": {
      "text/plain": "array([[1, 0, 2],\n       [1, 0, 2]])"
     },
     "execution_count": 101,
     "metadata": {},
     "output_type": "execute_result"
    }
   ],
   "source": [
    "# this sorts the index's of the array and shows us the ordering of it, i.e. 0 being the lowest and 2 is the highest in this case\n",
    "np.argsort(random_array)"
   ]
  },
  {
   "cell_type": "code",
   "execution_count": 102,
   "id": "80c03eb9",
   "metadata": {
    "ExecuteTime": {
     "end_time": "2023-06-18T01:48:08.055817Z",
     "start_time": "2023-06-18T01:48:07.937847Z"
    }
   },
   "outputs": [
    {
     "data": {
      "text/plain": "array([[9, 1, 9],\n       [4, 2, 6]])"
     },
     "execution_count": 102,
     "metadata": {},
     "output_type": "execute_result"
    }
   ],
   "source": [
    "random_array"
   ]
  },
  {
   "cell_type": "code",
   "execution_count": 103,
   "id": "e161673e",
   "metadata": {
    "ExecuteTime": {
     "end_time": "2023-06-18T01:48:08.085072Z",
     "start_time": "2023-06-18T01:48:07.940704Z"
    }
   },
   "outputs": [
    {
     "data": {
      "text/plain": "array([0, 1, 0])"
     },
     "execution_count": 103,
     "metadata": {},
     "output_type": "execute_result"
    }
   ],
   "source": [
    "np.argmax(random_array, axis=0)"
   ]
  },
  {
   "cell_type": "code",
   "execution_count": 104,
   "id": "93985964",
   "metadata": {
    "ExecuteTime": {
     "end_time": "2023-06-18T01:48:08.085806Z",
     "start_time": "2023-06-18T01:48:07.943223Z"
    }
   },
   "outputs": [
    {
     "data": {
      "text/plain": "array([0, 2])"
     },
     "execution_count": 104,
     "metadata": {},
     "output_type": "execute_result"
    }
   ],
   "source": [
    "np.argmax(random_array, axis=1)"
   ]
  },
  {
   "cell_type": "code",
   "execution_count": 105,
   "id": "62994ce4",
   "metadata": {
    "ExecuteTime": {
     "end_time": "2023-06-18T01:48:08.085984Z",
     "start_time": "2023-06-18T01:48:07.945051Z"
    }
   },
   "outputs": [
    {
     "data": {
      "text/plain": "1"
     },
     "execution_count": 105,
     "metadata": {},
     "output_type": "execute_result"
    }
   ],
   "source": [
    "np.argmin(random_array) # index of the minimum value"
   ]
  },
  {
   "cell_type": "code",
   "execution_count": 106,
   "id": "a93692c5",
   "metadata": {
    "ExecuteTime": {
     "end_time": "2023-06-18T01:48:08.086080Z",
     "start_time": "2023-06-18T01:48:07.948692Z"
    }
   },
   "outputs": [
    {
     "data": {
      "text/plain": "0"
     },
     "execution_count": 106,
     "metadata": {},
     "output_type": "execute_result"
    }
   ],
   "source": [
    "np.argmax(random_array)"
   ]
  },
  {
   "cell_type": "code",
   "execution_count": 107,
   "id": "6b227e8d",
   "metadata": {
    "ExecuteTime": {
     "end_time": "2023-06-18T01:48:08.086212Z",
     "start_time": "2023-06-18T01:48:07.951263Z"
    }
   },
   "outputs": [
    {
     "data": {
      "text/plain": "array([1, 0, 1])"
     },
     "execution_count": 107,
     "metadata": {},
     "output_type": "execute_result"
    }
   ],
   "source": [
    "np.argmin(random_array, axis=0)"
   ]
  },
  {
   "cell_type": "markdown",
   "id": "238c64ee",
   "metadata": {},
   "source": [
    "## Converting Images into numpy arrays and numbers"
   ]
  },
  {
   "cell_type": "code",
   "execution_count": 113,
   "outputs": [],
   "source": [
    "import matplotlib.image as mpimg"
   ],
   "metadata": {
    "collapsed": false,
    "ExecuteTime": {
     "end_time": "2023-06-18T01:52:13.338525Z",
     "start_time": "2023-06-18T01:52:13.224064Z"
    }
   }
  },
  {
   "cell_type": "markdown",
   "source": [
    "![](images/panda.png)"
   ],
   "metadata": {
    "collapsed": false
   }
  },
  {
   "cell_type": "code",
   "execution_count": 115,
   "id": "d86bfe1e",
   "metadata": {
    "ExecuteTime": {
     "end_time": "2023-06-18T01:52:20.720196Z",
     "start_time": "2023-06-18T01:52:20.553354Z"
    }
   },
   "outputs": [],
   "source": [
    "panda_array = mpimg.imread(\"images/panda.png\")"
   ]
  },
  {
   "cell_type": "code",
   "execution_count": 249,
   "id": "27658ba1",
   "metadata": {},
   "outputs": [
    {
     "data": {
      "text/plain": [
       "numpy.ndarray"
      ]
     },
     "execution_count": 249,
     "metadata": {},
     "output_type": "execute_result"
    }
   ],
   "source": [
    "type(panda_array)"
   ]
  },
  {
   "cell_type": "code",
   "execution_count": 250,
   "id": "ee2207fd",
   "metadata": {},
   "outputs": [
    {
     "data": {
      "text/plain": [
       "((2330, 3500, 3), 24465000, 3)"
      ]
     },
     "execution_count": 250,
     "metadata": {},
     "output_type": "execute_result"
    }
   ],
   "source": [
    "panda_array.shape, panda_array.size, panda_array.ndim"
   ]
  },
  {
   "cell_type": "code",
   "execution_count": 251,
   "id": "905a6b18",
   "metadata": {},
   "outputs": [
    {
     "data": {
      "text/plain": [
       "array([[[0.05490196, 0.10588235, 0.06666667],\n",
       "        [0.05490196, 0.10588235, 0.06666667],\n",
       "        [0.05490196, 0.10588235, 0.06666667],\n",
       "        ...,\n",
       "        [0.16470589, 0.12941177, 0.09411765],\n",
       "        [0.16470589, 0.12941177, 0.09411765],\n",
       "        [0.16470589, 0.12941177, 0.09411765]],\n",
       "\n",
       "       [[0.05490196, 0.10588235, 0.06666667],\n",
       "        [0.05490196, 0.10588235, 0.06666667],\n",
       "        [0.05490196, 0.10588235, 0.06666667],\n",
       "        ...,\n",
       "        [0.16470589, 0.12941177, 0.09411765],\n",
       "        [0.16470589, 0.12941177, 0.09411765],\n",
       "        [0.16470589, 0.12941177, 0.09411765]],\n",
       "\n",
       "       [[0.05490196, 0.10588235, 0.06666667],\n",
       "        [0.05490196, 0.10588235, 0.06666667],\n",
       "        [0.05490196, 0.10588235, 0.06666667],\n",
       "        ...,\n",
       "        [0.16470589, 0.12941177, 0.09411765],\n",
       "        [0.16470589, 0.12941177, 0.09411765],\n",
       "        [0.16470589, 0.12941177, 0.09411765]]], dtype=float32)"
      ]
     },
     "execution_count": 251,
     "metadata": {},
     "output_type": "execute_result"
    }
   ],
   "source": [
    "panda_array[:3]"
   ]
  },
  {
   "cell_type": "code",
   "execution_count": null,
   "id": "c2ec9e7b",
   "metadata": {},
   "outputs": [],
   "source": []
  }
 ],
 "metadata": {
  "kernelspec": {
   "display_name": "Python 3 (ipykernel)",
   "language": "python",
   "name": "python3"
  },
  "language_info": {
   "codemirror_mode": {
    "name": "ipython",
    "version": 3
   },
   "file_extension": ".py",
   "mimetype": "text/x-python",
   "name": "python",
   "nbconvert_exporter": "python",
   "pygments_lexer": "ipython3",
   "version": "3.11.3"
  }
 },
 "nbformat": 4,
 "nbformat_minor": 5
}
